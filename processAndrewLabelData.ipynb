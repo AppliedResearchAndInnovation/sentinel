{
 "cells": [
  {
   "cell_type": "markdown",
   "metadata": {},
   "source": [
    "### Take a look at the data"
   ]
  },
  {
   "cell_type": "code",
   "execution_count": 25,
   "metadata": {},
   "outputs": [],
   "source": [
    "import pandas as pd"
   ]
  },
  {
   "cell_type": "code",
   "execution_count": 26,
   "metadata": {},
   "outputs": [
    {
     "name": "stdout",
     "output_type": "stream",
     "text": [
      "   0  1   2   3         4                                                  5\n",
      "0  0  0  17  18  positive  I wanna hear your 2 favorite GPP DK sleepers u...\n",
      "1  1  1  15  15  positive  I wanna hear your 2 favorite GPP DK sleepers u...\n",
      "2  2  2   2   2  positive  @DKDFStrength if @ALoupe6 gets in... All in on...\n",
      "3  3  3  13  13  positive  Yahoo! gamers: My lineup for the @WMPhoenixOpe...\n",
      "4  4  4   9   9  positive  Yahoo! gamers: My lineup for the @WMPhoenixOpe...\n"
     ]
    }
   ],
   "source": [
    "filename = \"/Users/eclipsejenny/Desktop/human_tweets.txt\"\n",
    "file = pd.read_csv(filename,sep='\\t',header=None)\n",
    "print(file.head(5))"
   ]
  },
  {
   "cell_type": "code",
   "execution_count": 27,
   "metadata": {},
   "outputs": [
    {
     "data": {
      "text/plain": [
       "(1514, 6)"
      ]
     },
     "execution_count": 27,
     "metadata": {},
     "output_type": "execute_result"
    }
   ],
   "source": [
    "file.shape"
   ]
  },
  {
   "cell_type": "code",
   "execution_count": 28,
   "metadata": {},
   "outputs": [
    {
     "data": {
      "text/plain": [
       "positive    1076\n",
       "neutral      368\n",
       "negative      70\n",
       "Name: 4, dtype: int64"
      ]
     },
     "execution_count": 28,
     "metadata": {},
     "output_type": "execute_result"
    }
   ],
   "source": [
    "file.iloc[:,4].value_counts(normalize=False, sort=False)"
   ]
  },
  {
   "cell_type": "code",
   "execution_count": 29,
   "metadata": {},
   "outputs": [
    {
     "data": {
      "text/plain": [
       "positive    0.710700\n",
       "neutral     0.243065\n",
       "negative    0.046235\n",
       "Name: 4, dtype: float64"
      ]
     },
     "execution_count": 29,
     "metadata": {},
     "output_type": "execute_result"
    }
   ],
   "source": [
    "file.iloc[:,4].value_counts(normalize=True, sort=False)"
   ]
  },
  {
   "cell_type": "markdown",
   "metadata": {},
   "source": [
    "### reformat the dataset"
   ]
  },
  {
   "cell_type": "code",
   "execution_count": 6,
   "metadata": {},
   "outputs": [
    {
     "data": {
      "text/html": [
       "<div>\n",
       "<style scoped>\n",
       "    .dataframe tbody tr th:only-of-type {\n",
       "        vertical-align: middle;\n",
       "    }\n",
       "\n",
       "    .dataframe tbody tr th {\n",
       "        vertical-align: top;\n",
       "    }\n",
       "\n",
       "    .dataframe thead th {\n",
       "        text-align: right;\n",
       "    }\n",
       "</style>\n",
       "<table border=\"1\" class=\"dataframe\">\n",
       "  <thead>\n",
       "    <tr style=\"text-align: right;\">\n",
       "      <th></th>\n",
       "      <th>0</th>\n",
       "      <th>1</th>\n",
       "      <th>4</th>\n",
       "      <th>5</th>\n",
       "      <th>3</th>\n",
       "      <th>2</th>\n",
       "    </tr>\n",
       "  </thead>\n",
       "  <tbody>\n",
       "    <tr>\n",
       "      <th>0</th>\n",
       "      <td>0</td>\n",
       "      <td>0</td>\n",
       "      <td>17</td>\n",
       "      <td>18</td>\n",
       "      <td>positive</td>\n",
       "      <td>I wanna hear your 2 favorite GPP DK sleepers u...</td>\n",
       "    </tr>\n",
       "    <tr>\n",
       "      <th>1</th>\n",
       "      <td>1</td>\n",
       "      <td>1</td>\n",
       "      <td>15</td>\n",
       "      <td>15</td>\n",
       "      <td>positive</td>\n",
       "      <td>I wanna hear your 2 favorite GPP DK sleepers u...</td>\n",
       "    </tr>\n",
       "    <tr>\n",
       "      <th>2</th>\n",
       "      <td>2</td>\n",
       "      <td>2</td>\n",
       "      <td>2</td>\n",
       "      <td>2</td>\n",
       "      <td>positive</td>\n",
       "      <td>@DKDFStrength if @ALoupe6 gets in... All in on...</td>\n",
       "    </tr>\n",
       "    <tr>\n",
       "      <th>3</th>\n",
       "      <td>3</td>\n",
       "      <td>3</td>\n",
       "      <td>13</td>\n",
       "      <td>13</td>\n",
       "      <td>positive</td>\n",
       "      <td>Yahoo! gamers: My lineup for the @WMPhoenixOpe...</td>\n",
       "    </tr>\n",
       "    <tr>\n",
       "      <th>4</th>\n",
       "      <td>4</td>\n",
       "      <td>4</td>\n",
       "      <td>9</td>\n",
       "      <td>9</td>\n",
       "      <td>positive</td>\n",
       "      <td>Yahoo! gamers: My lineup for the @WMPhoenixOpe...</td>\n",
       "    </tr>\n",
       "  </tbody>\n",
       "</table>\n",
       "</div>"
      ],
      "text/plain": [
       "   0  1   4   5         3                                                  2\n",
       "0  0  0  17  18  positive  I wanna hear your 2 favorite GPP DK sleepers u...\n",
       "1  1  1  15  15  positive  I wanna hear your 2 favorite GPP DK sleepers u...\n",
       "2  2  2   2   2  positive  @DKDFStrength if @ALoupe6 gets in... All in on...\n",
       "3  3  3  13  13  positive  Yahoo! gamers: My lineup for the @WMPhoenixOpe...\n",
       "4  4  4   9   9  positive  Yahoo! gamers: My lineup for the @WMPhoenixOpe..."
      ]
     },
     "execution_count": 6,
     "metadata": {},
     "output_type": "execute_result"
    }
   ],
   "source": [
    "reformat = file.iloc[:, [0, 1, 4, 5, 3, 2]]\n",
    "reformat.head(5)"
   ]
  },
  {
   "cell_type": "code",
   "execution_count": 7,
   "metadata": {},
   "outputs": [],
   "source": [
    "reformat.to_csv(filename, sep=\"\\t\", header=False, index=False)"
   ]
  },
  {
   "cell_type": "markdown",
   "metadata": {},
   "source": [
    "### shuffle and train test split"
   ]
  },
  {
   "cell_type": "code",
   "execution_count": 30,
   "metadata": {},
   "outputs": [
    {
     "name": "stdout",
     "output_type": "stream",
     "text": [
      "1060\n",
      "454\n"
     ]
    }
   ],
   "source": [
    "# calculate training and testing set size\n",
    "training_size = round(file.shape[0] * 0.7)\n",
    "testing_size = file.shape[0] - training_size\n",
    "print(training_size)\n",
    "print(testing_size)"
   ]
  },
  {
   "cell_type": "code",
   "execution_count": 62,
   "metadata": {},
   "outputs": [],
   "source": [
    "# shuffle dataset\n",
    "shuffle = file.sample(frac=1)"
   ]
  },
  {
   "cell_type": "code",
   "execution_count": 63,
   "metadata": {},
   "outputs": [
    {
     "data": {
      "text/plain": [
       "(1060, 6)"
      ]
     },
     "execution_count": 63,
     "metadata": {},
     "output_type": "execute_result"
    }
   ],
   "source": [
    "# get training set\n",
    "training = shuffle.iloc[0:training_size, :]\n",
    "training.shape"
   ]
  },
  {
   "cell_type": "code",
   "execution_count": 64,
   "metadata": {},
   "outputs": [
    {
     "name": "stdout",
     "output_type": "stream",
     "text": [
      "positive    761\n",
      "neutral     251\n",
      "negative     48\n",
      "Name: 4, dtype: int64\n",
      "positive    0.717925\n",
      "neutral     0.236792\n",
      "negative    0.045283\n",
      "Name: 4, dtype: float64\n"
     ]
    }
   ],
   "source": [
    "# training set's class distribution\n",
    "print(training.iloc[:,4].value_counts(normalize=False, sort=False))\n",
    "print(training.iloc[:,4].value_counts(normalize=True, sort=False))"
   ]
  },
  {
   "cell_type": "code",
   "execution_count": 65,
   "metadata": {},
   "outputs": [
    {
     "data": {
      "text/plain": [
       "(454, 6)"
      ]
     },
     "execution_count": 65,
     "metadata": {},
     "output_type": "execute_result"
    }
   ],
   "source": [
    "# get testing set\n",
    "testing = shuffle.iloc[training_size:, :]\n",
    "testing.shape"
   ]
  },
  {
   "cell_type": "code",
   "execution_count": 66,
   "metadata": {},
   "outputs": [
    {
     "name": "stdout",
     "output_type": "stream",
     "text": [
      "positive    315\n",
      "neutral     117\n",
      "negative     22\n",
      "Name: 4, dtype: int64\n",
      "positive    0.693833\n",
      "neutral     0.257709\n",
      "negative    0.048458\n",
      "Name: 4, dtype: float64\n"
     ]
    }
   ],
   "source": [
    "# testing set's class distribution\n",
    "print(testing.iloc[:,4].value_counts(normalize=False, sort=False))\n",
    "print(testing.iloc[:,4].value_counts(normalize=True, sort=False))"
   ]
  },
  {
   "cell_type": "code",
   "execution_count": 67,
   "metadata": {},
   "outputs": [],
   "source": [
    "# save training and testing set to file\n",
    "training_filename = \"/Users/eclipsejenny/Desktop/AndrewLabel_train.txt\"\n",
    "testing_filename = \"/Users/eclipsejenny/Desktop/AndrewLabel_test.txt\"\n",
    "training.to_csv(training_filename, sep=\"\\t\", header=False, index=False)\n",
    "testing.to_csv(testing_filename, sep=\"\\t\", header=False, index=False)"
   ]
  },
  {
   "cell_type": "code",
   "execution_count": null,
   "metadata": {},
   "outputs": [],
   "source": []
  }
 ],
 "metadata": {
  "kernelspec": {
   "display_name": "Python 3",
   "language": "python",
   "name": "python3"
  },
  "language_info": {
   "codemirror_mode": {
    "name": "ipython",
    "version": 3
   },
   "file_extension": ".py",
   "mimetype": "text/x-python",
   "name": "python",
   "nbconvert_exporter": "python",
   "pygments_lexer": "ipython3",
   "version": "3.6.4"
  }
 },
 "nbformat": 4,
 "nbformat_minor": 2
}
